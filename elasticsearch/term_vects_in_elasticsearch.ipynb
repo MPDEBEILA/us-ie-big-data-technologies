{
 "cells": [
  {
   "cell_type": "markdown",
   "metadata": {
    "id": "qFdPvlXBOdUN"
   },
   "source": [
    "# Elasticsearch\n",
    "\n",
    "In this notebook we will setup an Elasticsearch server, read in Shakespeares works, and analyze them to unerstand term vectors.\n",
    "\n",
    "You may mix direct API calls, the Python API, or url calls from Python. Whatever gives you access to the data.\n",
    "\n"
   ]
  },
  {
   "cell_type": "markdown",
   "metadata": {
    "id": "upgCc3gXybsA"
   },
   "source": [
    "### Install the necessary elasticsearch Python packages"
   ]
  },
  {
   "cell_type": "code",
   "execution_count": null,
   "metadata": {
    "colab": {
     "base_uri": "https://localhost:8080/"
    },
    "id": "48B9eAMMhAgw",
    "outputId": "e2174f81-c62c-4782-c1fa-f9c6e75fa7e4"
   },
   "outputs": [],
   "source": [
    "!pip install 'elasticsearch<7.14.0'\n",
    "\n",
    "# docs are here https://elasticsearch-py.readthedocs.io/en/v7.13.4/#"
   ]
  },
  {
   "cell_type": "markdown",
   "metadata": {
    "id": "gjrZNJQRJP-U"
   },
   "source": [
    "### Import packages"
   ]
  },
  {
   "cell_type": "code",
   "execution_count": null,
   "metadata": {
    "id": "m6KXZuTBWgRm"
   },
   "outputs": [],
   "source": [
    "import os\n",
    "import time\n",
    "from elasticsearch import Elasticsearch\n",
    "import numpy as np\n",
    "import pandas as pd"
   ]
  },
  {
   "cell_type": "markdown",
   "metadata": {
    "id": "yZmI7l_GykcW"
   },
   "source": [
    "## Setup Elasticsearch Instance\n"
   ]
  },
  {
   "cell_type": "code",
   "execution_count": null,
   "metadata": {
    "colab": {
     "base_uri": "https://localhost:8080/"
    },
    "id": "YUj0878jPyz7",
    "outputId": "f237bf21-3418-4d9d-c1cb-43a72e7d6fca"
   },
   "outputs": [],
   "source": [
    "%%bash\n",
    "\n",
    "wget -q https://artifacts.elastic.co/downloads/elasticsearch/elasticsearch-oss-7.9.2-linux-x86_64.tar.gz\n",
    "wget -q https://artifacts.elastic.co/downloads/elasticsearch/elasticsearch-oss-7.9.2-linux-x86_64.tar.gz.sha512\n",
    "tar -xzf elasticsearch-oss-7.9.2-linux-x86_64.tar.gz\n",
    "sudo chown -R daemon:daemon elasticsearch-7.9.2/\n",
    "shasum -a 512 -c elasticsearch-oss-7.9.2-linux-x86_64.tar.gz.sha512 "
   ]
  },
  {
   "cell_type": "markdown",
   "metadata": {
    "id": "vAzfu_WiEs4F"
   },
   "source": [
    "Run the instance as a daemon (background) process"
   ]
  },
  {
   "cell_type": "code",
   "execution_count": null,
   "metadata": {
    "colab": {
     "base_uri": "https://localhost:8080/"
    },
    "id": "n9ujlunrWgRx",
    "outputId": "5c823703-bd39-4c39-afa2-df399071f2ae"
   },
   "outputs": [],
   "source": [
    "%%bash --bg\n",
    "\n",
    "sudo -H -u daemon elasticsearch-7.9.2/bin/elasticsearch"
   ]
  },
  {
   "cell_type": "code",
   "execution_count": null,
   "metadata": {
    "id": "XyUa9r6MgWtW"
   },
   "outputs": [],
   "source": [
    "# Sleep for few seconds to let the instance start.  - here in case you are running end-to-end\n",
    "time.sleep(20)"
   ]
  },
  {
   "cell_type": "markdown",
   "metadata": {
    "id": "wBuRpiyf_kNS"
   },
   "source": [
    "query the base endpoint to retrieve information about the cluster."
   ]
  },
  {
   "cell_type": "code",
   "execution_count": null,
   "metadata": {
    "colab": {
     "base_uri": "https://localhost:8080/"
    },
    "id": "ILyohKWQ_XQS",
    "outputId": "901632b5-71ff-487f-ab8e-1826cf9b0084"
   },
   "outputs": [],
   "source": [
    "%%bash\n",
    "\n",
    "curl -sX GET \"localhost:9200/\""
   ]
  },
  {
   "cell_type": "markdown",
   "metadata": {
    "id": "jHCkMmP4GIM_"
   },
   "source": [
    "### Data\n",
    "\n",
    "Get the Shakespeare data "
   ]
  },
  {
   "cell_type": "code",
   "execution_count": null,
   "metadata": {
    "id": "-NQ84HV0DqfC"
   },
   "outputs": [],
   "source": [
    "%%bash \n",
    "\n",
    "wget 'https://download.elastic.co/demos/kibana/gettingstarted/shakespeare_6.0.json' -q"
   ]
  },
  {
   "cell_type": "code",
   "execution_count": null,
   "metadata": {
    "colab": {
     "base_uri": "https://localhost:8080/"
    },
    "id": "Psqlj-8pGwBn",
    "outputId": "343703ec-c3c4-4b31-a7ca-f7fe7afbdc47"
   },
   "outputs": [],
   "source": [
    "%%bash\n",
    "\n",
    "head -5 shakespeare_6.0.json"
   ]
  },
  {
   "cell_type": "code",
   "execution_count": null,
   "metadata": {
    "colab": {
     "base_uri": "https://localhost:8080/"
    },
    "id": "SqUwn_9CFkGw",
    "outputId": "58464c89-2b04-4fa8-fd5d-ea6bb487ae58"
   },
   "outputs": [],
   "source": [
    "from elasticsearch import helpers, Elasticsearch\n",
    "import csv\n",
    "\n",
    "ES_NODES = \"http://localhost:9200\"\n",
    "\n",
    "es = Elasticsearch(hosts = [ES_NODES])\n",
    "index_name = 'shakespeare'\n",
    "doctype = 'shakespeare_works'\n",
    "es.indices.delete(index=index_name, ignore=[400, 404])\n",
    "es.indices.create(index=index_name, ignore=400, \n",
    "      body={\n",
    "              \"mappings\": {\n",
    "                  \"properties\" : {\n",
    "                  \"speaker\": \n",
    "                    {\"type\": \"keyword\"},\n",
    "                  \"play_name\": \n",
    "                    {\"type\": \"keyword\"},\n",
    "                  \"line_id\": \n",
    "                    {\"type\": \"integer\"},\n",
    "                  \"speech_number\": \n",
    "                    {\"type\": \"integer\"}, \n",
    "                  \"text_entry\":\n",
    "                    {\"term_vector\": \"with_positions_offsets\",\n",
    "                     \"type\": \"text\", \n",
    "                     \"fielddata\": True}\n",
    "            }\n",
    "      }}\n",
    "  )\n",
    "  "
   ]
  },
  {
   "cell_type": "markdown",
   "metadata": {
    "id": "xBuEcsRlaXBN"
   },
   "source": [
    "Bulk upload the data"
   ]
  },
  {
   "cell_type": "code",
   "execution_count": null,
   "metadata": {
    "colab": {
     "base_uri": "https://localhost:8080/"
    },
    "id": "YJGQCQoeScC0",
    "outputId": "783b0daa-9f3f-41ce-f761-8dc0aa8b0a0d"
   },
   "outputs": [],
   "source": [
    "! curl -s -q -H 'Content-Type: application/x-ndjson' -XPOST 'localhost:9200/shakespeare/_bulk?pretty' --data-binary @shakespeare_6.0.json "
   ]
  },
  {
   "cell_type": "code",
   "execution_count": null,
   "metadata": {
    "colab": {
     "base_uri": "https://localhost:8080/"
    },
    "id": "Vl546eqTPO4Y",
    "outputId": "bb3734f4-ad9b-41aa-8603-64515f9f0a8c"
   },
   "outputs": [],
   "source": [
    "! curl http://localhost:9200/_cat/indices"
   ]
  },
  {
   "cell_type": "markdown",
   "metadata": {
    "id": "Mg2weHdnamiU"
   },
   "source": [
    "### Extract term vectors"
   ]
  },
  {
   "cell_type": "markdown",
   "metadata": {
    "id": "FLehyh-caubt"
   },
   "source": [
    "### Find a rare term"
   ]
  },
  {
   "cell_type": "markdown",
   "metadata": {
    "id": "nlrvpG7JbPKf"
   },
   "source": [
    "### Search for the term\n"
   ]
  }
 ],
 "metadata": {
  "colab": {
   "collapsed_sections": [],
   "name": "Term-vects in elasticsearch.ipynb",
   "provenance": [],
   "toc_visible": true
  },
  "kernelspec": {
   "display_name": "Python 3",
   "language": "python",
   "name": "python3"
  },
  "language_info": {
   "codemirror_mode": {
    "name": "ipython",
    "version": 3
   },
   "file_extension": ".py",
   "mimetype": "text/x-python",
   "name": "python",
   "nbconvert_exporter": "python",
   "pygments_lexer": "ipython3",
   "version": "3.6.9"
  }
 },
 "nbformat": 4,
 "nbformat_minor": 4
}
