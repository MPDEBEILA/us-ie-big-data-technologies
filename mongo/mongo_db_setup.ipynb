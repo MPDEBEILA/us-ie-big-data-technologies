{
  "nbformat": 4,
  "nbformat_minor": 0,
  "metadata": {
    "colab": {
      "name": "mongo-db-setup.ipynb",
      "provenance": [],
      "collapsed_sections": []
    },
    "kernelspec": {
      "name": "python3",
      "display_name": "Python 3"
    },
    "language_info": {
      "name": "python"
    }
  },
  "cells": [
    {
      "cell_type": "markdown",
      "metadata": {
        "id": "TCjw9msZ-1Lc"
      },
      "source": [
        "## Installing MongoDB in a Google Colab Environment\n",
        "\n",
        "This will work on an Ubuntu system too, but there we recommend using a Docker container to host MongoDB, rather than installing it directly in the OS.\n",
        "\n",
        "Hit Ctrl+Spacebar to autocomplete or show options for your code (e.g. `client.`, hit key combination and it will give you the options)"
      ]
    },
    {
      "cell_type": "code",
      "metadata": {
        "colab": {
          "base_uri": "https://localhost:8080/"
        },
        "id": "TrHe49GHJW55",
        "outputId": "5cbb0a6b-76b8-4fd9-eb7d-decb6f2a9eda"
      },
      "source": [
        "! apt update &> /dev/null\n",
        "! apt install mongodb | tail"
      ],
      "execution_count": 3,
      "outputs": [
        {
          "output_type": "stream",
          "name": "stdout",
          "text": [
            "\n",
            "WARNING: apt does not have a stable CLI interface. Use with caution in scripts.\n",
            "\n",
            "invoke-rc.d: could not determine current runlevel\n",
            "invoke-rc.d: policy-rc.d denied execution of start.\n",
            "Created symlink /etc/systemd/system/multi-user.target.wants/mongodb.service → /lib/systemd/system/mongodb.service.\n",
            "Setting up mongo-tools (3.6.3-0ubuntu1) ...\n",
            "Setting up mongodb (1:3.6.3-0ubuntu1.4) ...\n",
            "Processing triggers for systemd (237-3ubuntu10.52) ...\n",
            "Processing triggers for man-db (2.8.3-2ubuntu0.1) ...\n",
            "Processing triggers for libc-bin (2.27-3ubuntu1.3) ...\n",
            "/sbin/ldconfig.real: /usr/local/lib/python3.7/dist-packages/ideep4py/lib/libmkldnn.so.0 is not a symbolic link\n",
            "\n"
          ]
        }
      ]
    },
    {
      "cell_type": "code",
      "metadata": {
        "colab": {
          "base_uri": "https://localhost:8080/"
        },
        "id": "H8D6GlDXbAlx",
        "outputId": "e9fa36d2-ba8a-4d25-e98f-4f40169bd4e7"
      },
      "source": [
        "# start the mongo service in the underlying sys\n",
        "!service mongodb start"
      ],
      "execution_count": 4,
      "outputs": [
        {
          "output_type": "stream",
          "name": "stdout",
          "text": [
            " * Starting database mongodb\n",
            "   ...done.\n"
          ]
        }
      ]
    },
    {
      "cell_type": "code",
      "metadata": {
        "id": "-7SBAbymYMvg"
      },
      "source": [
        "# install the pymongo packages.\n",
        "! pip install pymongo --quiet"
      ],
      "execution_count": 6,
      "outputs": []
    },
    {
      "cell_type": "markdown",
      "metadata": {
        "id": "0Sf2LV_s_HSf"
      },
      "source": [
        "Demonstration of client accessing mongodb service."
      ]
    },
    {
      "cell_type": "code",
      "metadata": {
        "id": "G8y83nO_ZNzZ"
      },
      "source": [
        "import pymongo\n",
        "\n",
        "# connect to localhost on default port 27017\n",
        "client = pymongo.MongoClient('127.0.0.1', 27017)\n",
        "\n",
        "# get/create a database with name `database_name`\n",
        "db = client['database_name']\n",
        "# get/create a collection in the database called `test_col`\n",
        "col = db.get_collection('test_col')\n",
        "\n",
        "\n",
        "d1 = ' the cat sat on the mat '\n",
        "d2 = ' the dog sat on the log ' \n",
        "# insert two documents with <document_id, text>\n",
        "col.insert_one({'document_id': 'D1', 'text': d1})\n",
        "col.insert_one({'document_id': 'D2', 'text': d2})\n",
        "list(col.find({}))\n",
        "\n",
        "# teardown\n",
        "\n",
        "client.drop_database('database_name')"
      ],
      "execution_count": 8,
      "outputs": []
    },
    {
      "cell_type": "code",
      "metadata": {
        "id": "KRT-I-2QAP7P"
      },
      "source": [
        ""
      ],
      "execution_count": null,
      "outputs": []
    }
  ]
}