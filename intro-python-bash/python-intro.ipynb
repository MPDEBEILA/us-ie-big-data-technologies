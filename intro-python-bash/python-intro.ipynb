{
  "nbformat": 4,
  "nbformat_minor": 0,
  "metadata": {
    "kernelspec": {
      "display_name": "Python 3",
      "language": "python",
      "name": "python3"
    },
    "language_info": {
      "codemirror_mode": {
        "name": "ipython",
        "version": 3
      },
      "file_extension": ".py",
      "mimetype": "text/x-python",
      "name": "python",
      "nbconvert_exporter": "python",
      "pygments_lexer": "ipython3",
      "version": "3.6.9"
    },
    "colab": {
      "name": "python-intro.ipynb",
      "provenance": [],
      "collapsed_sections": [
        "cy8G2Lnq3Tln",
        "YJ4uYCje3Tlw"
      ]
    }
  },
  "cells": [
    {
      "cell_type": "code",
      "metadata": {
        "id": "iCxz-VWN3TlP"
      },
      "source": [
        "%config Completer.use_jedi = False"
      ],
      "execution_count": null,
      "outputs": []
    },
    {
      "cell_type": "markdown",
      "metadata": {
        "id": "7TOWbsuQ3Tla"
      },
      "source": [
        "# Introduction to Python\n",
        "\n",
        "## For Data Workloads\n",
        "\n",
        "\n",
        "We'll cover a few Python basics, and then consider a few popular tools for data workloads.\n",
        "\n"
      ]
    },
    {
      "cell_type": "markdown",
      "metadata": {
        "id": "yfmB39yd3Tlc"
      },
      "source": [
        "<!-- |Section|  Description |\n",
        "|---|---|\n",
        "| Python Programming  |   |\n",
        "| Object Orientation  |   |\n",
        "| Functional Programming |  |\n",
        " -->"
      ]
    },
    {
      "cell_type": "markdown",
      "metadata": {
        "id": "nImfogvP3Tle"
      },
      "source": [
        "Python is: \n",
        "    \n",
        "   * _dynamically typed_ (types are resolved at runtime - values have types, not variables)\n",
        "   * _strongly typed_ (forbids mixed type operations, e.g. `string` + `int`)\n",
        "   * _interpreted_ (not compiled on the host machine)\n",
        "   * emphasizes _code readibility_ (e.g. use of indentation)\n",
        "   \n",
        "\n",
        "But first, ..., asking for **help**. Append a `?` to the end of your function call or object, and you will receive a pleasant print out in Jupyter notebooks (or use `help(function)` in the python command line interface). For example\n",
        "\n",
        "![python-ask-for-help.png](python-ask-for-help-small.png)\n"
      ]
    },
    {
      "cell_type": "markdown",
      "metadata": {
        "id": "62fjUOf93Tlf"
      },
      "source": [
        "## Python Programming\n",
        "\n",
        "Concepts of particular relevance \n",
        "\n",
        " * functions \n",
        " * iterables\n",
        "   - collections that can be iterated, e.g. `list`\n",
        " * types\n",
        " * classes"
      ]
    },
    {
      "cell_type": "markdown",
      "metadata": {
        "id": "a3LW6GYP3Tlg"
      },
      "source": [
        "### Built in Functions\n",
        "\n",
        "For a more comprehesive list, visit [w3schools](https://www.w3schools.com/python/python_ref_functions.asp)."
      ]
    },
    {
      "cell_type": "markdown",
      "metadata": {
        "id": "pE2t248a3Tlg"
      },
      "source": [
        "##### Plain old functions\n"
      ]
    },
    {
      "cell_type": "code",
      "metadata": {
        "id": "kXGk0cZe3Tlh"
      },
      "source": [
        "print(f'len\\n\\treturn the length of an object: {len([1])}')\n",
        "print(f'print\\n\\tprint to stdout')\n",
        "print(f'isinstance\\n\\treturn True if provided object is instance of provided type: {isinstance([], list)}')\n",
        "print(f'type\\n\\treturn the type of an object: {type(list)}')"
      ],
      "execution_count": null,
      "outputs": []
    },
    {
      "cell_type": "markdown",
      "metadata": {
        "id": "PbqFDXi83Tli"
      },
      "source": [
        "##### Boolean operations\n"
      ]
    },
    {
      "cell_type": "code",
      "metadata": {
        "id": "gDwm19rW3Tlj"
      },
      "source": [
        "print(f'any\\n\\treturn True if any element of an iterable is true: {any([False, False, True])}')\n",
        "print(f'all\\n\\treturn true if all elements are true: {all([True])}')\n",
        "print(f'bool\\n\\treturn boolean value of object: {bool(None)}')"
      ],
      "execution_count": null,
      "outputs": []
    },
    {
      "cell_type": "markdown",
      "metadata": {
        "id": "MqolI5ui3Tlk"
      },
      "source": [
        "##### Mathematical operations\n"
      ]
    },
    {
      "cell_type": "code",
      "metadata": {
        "id": "Ne3gh4Ie3Tll"
      },
      "source": [
        "print(f'abs\\n\\treturn the absolute value of an expression/number: {abs(1-2)}')\n",
        "print(f'min,max,sum\\n\\tacts on iterable: {(min([0,1]), max([0,1]), sum([0,1]))}')"
      ],
      "execution_count": null,
      "outputs": []
    },
    {
      "cell_type": "markdown",
      "metadata": {
        "id": "yPXO_GGC3Tll"
      },
      "source": [
        "##### Collection operations\n"
      ]
    },
    {
      "cell_type": "code",
      "metadata": {
        "id": "9CLsigTN3Tlm"
      },
      "source": [
        "print(f'list\\n\\tcreate a list from an iterable: {list([0,1])}')\n",
        "print(f'enumerate\\n\\tcreate enumerated object: {list(enumerate([0,1]))}')\n",
        "print(f'filter\\n\\texclude items in iterable: {list(filter(None, [1, None, 1]))}')\n",
        "print(f'zip\\n\\treturns an iterator over two of more iterators: {list(zip([0,1], [0,1]))}')"
      ],
      "execution_count": null,
      "outputs": []
    },
    {
      "cell_type": "markdown",
      "metadata": {
        "id": "iXgAyYgA3Tlm"
      },
      "source": [
        "### Built-in Types\n",
        "\n",
        "Consult the official [Built-in](https://docs.python.org/3/library/stdtypes.html#built-in-types) documentation for more information."
      ]
    },
    {
      "cell_type": "markdown",
      "metadata": {
        "id": "cy8G2Lnq3Tln"
      },
      "source": [
        "#### Numeric Types\n",
        "  * `int` (unlimited precision)\n",
        "  * `float` (typically double precision)\n",
        "  * `complex` (\\<float\\> + \\<float\\>i )"
      ]
    },
    {
      "cell_type": "code",
      "metadata": {
        "id": "bamAMtIl3Tln"
      },
      "source": [
        "eg_int = 10000\n",
        "print(type(eg_int), eg_int)\n",
        "\n",
        "\n",
        "eg_float = 1e7\n",
        "print(type(eg_float), eg_float)\n",
        "\n",
        "print(f'modulo: {3 % 2}')\n",
        "\n",
        "print(f'pow: {2**4}')\n",
        "\n",
        "print(f'largest whole no 3/2: {int(3/2)}')\n",
        "print(f'largest whole no 3/2: {3//2}')\n"
      ],
      "execution_count": null,
      "outputs": []
    },
    {
      "cell_type": "markdown",
      "metadata": {
        "id": "0tO-JLAR3Tlo"
      },
      "source": [
        "### Sequence Types\n",
        "\n",
        "  * `list` (a datastructure - mutable *ordered* list of elements)\n",
        "  * `tuple` (immutable ordered list of elements)\n",
        "  * `ranges` (immutable ordered list of numbers)"
      ]
    },
    {
      "cell_type": "markdown",
      "metadata": {
        "id": "8dhuTDnz3Tlo"
      },
      "source": [
        "#### Creation\n"
      ]
    },
    {
      "cell_type": "code",
      "metadata": {
        "id": "FxmQMtZ93Tlo"
      },
      "source": [
        "list_a = []\n",
        "list_b = [0,1,2]\n",
        "\n",
        "tuple_a = ()\n",
        "tuple_b = (0,1,2)\n",
        "\n",
        "# create a list from a tuple or a tuple from a list\n",
        "list_c = list(tuple_b)\n",
        "tuple_c = tuple(list_b)\n",
        "\n",
        "# create a range object\n",
        "range_a = [range(1,2)]"
      ],
      "execution_count": null,
      "outputs": []
    },
    {
      "cell_type": "markdown",
      "metadata": {
        "id": "ymPixYlv3Tlp"
      },
      "source": [
        "#### What we mean by immutable\n"
      ]
    },
    {
      "cell_type": "code",
      "metadata": {
        "id": "9c39KorZ3Tlp"
      },
      "source": [
        "\n",
        "# attempt to re-assign the first element of tuple & list\n",
        "print('A list is mutable!')\n",
        "print(list_c, list_c[1])\n",
        "list_c[1] = 2\n",
        "print(list_c, list_c[1])\n",
        "\n",
        "print(tuple_c, tuple_c[0])\n",
        "\n",
        "try:\n",
        "    tuple_c[0] = 1\n",
        "except TypeError as e:\n",
        "    print(f'nope! a tuple is immutable\\n\\tException raised: {e}')"
      ],
      "execution_count": null,
      "outputs": []
    },
    {
      "cell_type": "markdown",
      "metadata": {
        "id": "j9HTWEhf3Tlp"
      },
      "source": [
        "#### Operations on/using Sequence Types"
      ]
    },
    {
      "cell_type": "code",
      "metadata": {
        "id": "pNUz8a_r3Tlq"
      },
      "source": [
        "# operations on lists\n",
        "\n",
        "# concatenating lists\n",
        "print([0,1] + [2,3] + [4]*4)\n",
        "\n",
        "# finding position of an element (returns idx of first element encountered)\n",
        "print([0,0,2,0,0].index(2))\n",
        "\n",
        "# append to a list\n",
        "l=[0,1,2]\n",
        "l.append(3)\n",
        "print(l)\n",
        "\n",
        "# slice a list (upper bound excluded)\n",
        "print(l[1:3])\n",
        "\n",
        "# sum a list, or find the max and min\n",
        "print(sum(l), min(l), max(l))"
      ],
      "execution_count": null,
      "outputs": []
    },
    {
      "cell_type": "markdown",
      "metadata": {
        "id": "OTJXFdjr3Tlq"
      },
      "source": [
        "### Set Types\n",
        "\n",
        " * `set` (a mutable mathematical set - unordered and elements are unique/hashable)\n",
        " * `frozenset`: immutable version of a set (thus entire structure is hashable)"
      ]
    },
    {
      "cell_type": "code",
      "metadata": {
        "id": "IzcBRq633Tlq"
      },
      "source": [
        "# creation\n",
        "\n",
        "s = set([0,1,1,1])\n",
        "print(s)\n",
        "\n",
        "print(frozenset([0,1]))"
      ],
      "execution_count": null,
      "outputs": []
    },
    {
      "cell_type": "markdown",
      "metadata": {
        "id": "3OB4tGsq3Tlq"
      },
      "source": [
        "### Mapping Types\n",
        "\n",
        " * `dict`: map hashable values to arbitrary objects \n",
        " \n",
        "Immutable types are hashable and may therefore always be used as keys"
      ]
    },
    {
      "cell_type": "code",
      "metadata": {
        "id": "SGALaCVj3Tlr"
      },
      "source": [
        "d = dict([('a', 1), ('b', 2)])\n",
        "print(d)\n",
        "\n",
        "d = {'a': 1, 'b': 2}\n",
        "\n",
        "\n",
        "# what you can't do...\n",
        "x = [1]\n",
        "try:\n",
        "    {x: 3}\n",
        "except TypeError as e:\n",
        "    print(e)"
      ],
      "execution_count": null,
      "outputs": []
    },
    {
      "cell_type": "markdown",
      "metadata": {
        "id": "A8tF8Sds3Tlr"
      },
      "source": [
        "### Text Sequence Types\n",
        "\n",
        " * `str`: immutable sequences of unicode points\n",
        " \n"
      ]
    },
    {
      "cell_type": "code",
      "metadata": {
        "id": "VE7AmiMA3Tlr"
      },
      "source": [
        "# Creation\n",
        "\n",
        "string_a = \"a string\"\n",
        "string_b = 'a string'\n",
        "string_c = \"\"\"longer\n",
        "string\"\"\"\n",
        "\n",
        "print(string_c)"
      ],
      "execution_count": null,
      "outputs": []
    },
    {
      "cell_type": "code",
      "metadata": {
        "id": "Yno-IP5M3Tls"
      },
      "source": [
        "# Operations on strings\n",
        "\n",
        "print(string_a.upper().isupper())\n",
        "print(string_a.lower().islower())\n",
        "print(string_a.isdigit())"
      ],
      "execution_count": null,
      "outputs": []
    },
    {
      "cell_type": "code",
      "metadata": {
        "id": "uoSeCOID3Tls"
      },
      "source": [
        "# slicing and dicing\n",
        "\n",
        "print(string_a.split(' '))\n",
        "string_a.replace('st', '')"
      ],
      "execution_count": null,
      "outputs": []
    },
    {
      "cell_type": "markdown",
      "metadata": {
        "id": "Qj9xJguy3Tls"
      },
      "source": [
        "### Functions"
      ]
    },
    {
      "cell_type": "code",
      "metadata": {
        "id": "p0CqNRH_3Tls"
      },
      "source": [
        "def multiply(a,b):\n",
        "    return a*b\n",
        "\n",
        "multiply(2,3)"
      ],
      "execution_count": null,
      "outputs": []
    },
    {
      "cell_type": "code",
      "metadata": {
        "id": "NkVmqSt-3Tlt"
      },
      "source": [
        "def by_what(x: list):\n",
        "    \"\"\"mutable vs immutable\"\"\"\n",
        "    ix = x\n",
        "    ix[0] = 'edited'\n",
        "    #  ix = 3\n",
        "    return ix\n",
        "    \n",
        "l = [1,2]\n",
        "print(by_what(l))\n",
        "l"
      ],
      "execution_count": null,
      "outputs": []
    },
    {
      "cell_type": "code",
      "metadata": {
        "id": "eji9_awR3Tlt"
      },
      "source": [
        "# Generators\n",
        "\n",
        "def squaring(x):\n",
        "    runner = x\n",
        "    while runner < 1e4:\n",
        "        runner *= x\n",
        "        yield runner\n",
        "        \n",
        "list(squaring(2))"
      ],
      "execution_count": null,
      "outputs": []
    },
    {
      "cell_type": "markdown",
      "metadata": {
        "id": "GcNnAvXb3Tlt"
      },
      "source": [
        "### Classes"
      ]
    },
    {
      "cell_type": "code",
      "metadata": {
        "id": "CWHi-wfl3Tlt"
      },
      "source": [
        "class Example:\n",
        "    \n",
        "    def __init__(self):\n",
        "        self.a = 'hello world'\n",
        "    \n",
        "    def exclaim(self):\n",
        "        print(self.a + '!!!')\n",
        "        \n",
        "        \n",
        "    @staticmethod\n",
        "    def freestyle():\n",
        "        print('goodbye world')\n",
        "        \n",
        "        \n",
        "o = Example()\n",
        "o.exclaim()\n",
        "o.freestyle()  #Example.freestyle()\n"
      ],
      "execution_count": null,
      "outputs": []
    },
    {
      "cell_type": "code",
      "metadata": {
        "id": "2TFuuR7R3Tlu"
      },
      "source": [
        "# Anonymous\n",
        "\n",
        "f = lambda x: x**2\n",
        "\n",
        "g = lambda x: x*2\n",
        "\n",
        "print(f(2))\n",
        "print(g(f(2)))"
      ],
      "execution_count": null,
      "outputs": []
    },
    {
      "cell_type": "markdown",
      "metadata": {
        "id": "rvQKENwT3Tlu"
      },
      "source": [
        "### Loops and iterables"
      ]
    },
    {
      "cell_type": "code",
      "metadata": {
        "id": "7u_gbJ2x3Tlu"
      },
      "source": [
        "for e in range(0,4):\n",
        "    print(e)"
      ],
      "execution_count": null,
      "outputs": []
    },
    {
      "cell_type": "code",
      "metadata": {
        "id": "OGFZjfRi3Tlv"
      },
      "source": [
        "for e in zip([0,1,2,3], ['a', 'b', 'c', 'd']):\n",
        "    print(e)"
      ],
      "execution_count": null,
      "outputs": []
    },
    {
      "cell_type": "code",
      "metadata": {
        "id": "wJs48slr3Tlv"
      },
      "source": [
        "d = dict(zip([0,1,2,3], ['a', 'b', 'c', 'd']))\n",
        "for k,v in d.items():\n",
        "    print(f'{k} --> {v}')"
      ],
      "execution_count": null,
      "outputs": []
    },
    {
      "cell_type": "markdown",
      "metadata": {
        "id": "x6qvzgaP3Tlv"
      },
      "source": [
        "### Pandas Dataframes"
      ]
    },
    {
      "cell_type": "code",
      "metadata": {
        "id": "CmF-tu7j3Tlv"
      },
      "source": [
        "import pandas as pd\n",
        "\n",
        "\n",
        "df = pd.DataFrame([ ['r1c1', 'r1c2', 'r1c3'], ['r2c1', 'r2c2', 'r3c3'] ], columns=['C1', 'C2', 'C3'])\n",
        "\n",
        "# pd.DataFrame([ range(0,5) , [1]*5  ]).T\n"
      ],
      "execution_count": null,
      "outputs": []
    },
    {
      "cell_type": "code",
      "metadata": {
        "id": "TveYODTa3Tlv"
      },
      "source": [
        "df.columns"
      ],
      "execution_count": null,
      "outputs": []
    },
    {
      "cell_type": "code",
      "metadata": {
        "id": "batreVQp3Tlw"
      },
      "source": [
        "df.index"
      ],
      "execution_count": null,
      "outputs": []
    },
    {
      "cell_type": "markdown",
      "metadata": {
        "id": "YJ4uYCje3Tlw"
      },
      "source": [
        "#### Plots"
      ]
    },
    {
      "cell_type": "code",
      "metadata": {
        "id": "SFhYoawH3Tlw"
      },
      "source": [
        "import datetime\n",
        "my_index = pd.date_range(start=datetime.datetime.now(), periods=10, freq='D')"
      ],
      "execution_count": null,
      "outputs": []
    },
    {
      "cell_type": "code",
      "metadata": {
        "id": "x3m6Zg4c3Tlw"
      },
      "source": [
        "import math\n",
        "values = [math.cos(x*math.pi/10) for x in range(0, 10)]\n"
      ],
      "execution_count": null,
      "outputs": []
    },
    {
      "cell_type": "code",
      "metadata": {
        "id": "DJk3w6dp3Tlx"
      },
      "source": [
        "df = pd.DataFrame(values, columns=['values'])\n",
        "\n",
        "df.set_index(my_index)\n",
        "\n",
        "df.plot()"
      ],
      "execution_count": null,
      "outputs": []
    },
    {
      "cell_type": "markdown",
      "metadata": {
        "id": "Ig49TFOv3Tlx"
      },
      "source": [
        "### Subsetting"
      ]
    },
    {
      "cell_type": "code",
      "metadata": {
        "id": "6caDbkKQ3Tly"
      },
      "source": [
        "(df.values < 0)"
      ],
      "execution_count": null,
      "outputs": []
    },
    {
      "cell_type": "markdown",
      "metadata": {
        "id": "aZGRW58h3Tly"
      },
      "source": [
        "### Row-level operations"
      ]
    },
    {
      "cell_type": "code",
      "metadata": {
        "id": "uTemI0zf3Tly"
      },
      "source": [
        "df['inflated'] = df['values'].map(lambda x: x**2)"
      ],
      "execution_count": null,
      "outputs": []
    },
    {
      "cell_type": "code",
      "metadata": {
        "id": "ygAKfyaL3Tlz"
      },
      "source": [
        "df"
      ],
      "execution_count": null,
      "outputs": []
    },
    {
      "cell_type": "code",
      "metadata": {
        "id": "XUDzZBp73Tlz"
      },
      "source": [
        "df.plot()"
      ],
      "execution_count": null,
      "outputs": []
    },
    {
      "cell_type": "code",
      "metadata": {
        "id": "RYGbJzkt3Tl0"
      },
      "source": [
        ""
      ],
      "execution_count": null,
      "outputs": []
    }
  ]
}